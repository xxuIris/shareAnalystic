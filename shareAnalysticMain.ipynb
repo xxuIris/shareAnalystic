{
 "cells": [
  {
   "cell_type": "code",
   "execution_count": 4,
   "metadata": {
    "collapsed": true
   },
   "outputs": [],
   "source": [
    "import os"
   ]
  },
  {
   "cell_type": "code",
   "execution_count": 5,
   "metadata": {
    "collapsed": true
   },
   "outputs": [],
   "source": [
    "import sqlite3"
   ]
  },
  {
   "cell_type": "code",
   "execution_count": 20,
   "metadata": {
    "collapsed": true
   },
   "outputs": [],
   "source": [
    "import dash"
   ]
  },
  {
   "cell_type": "code",
   "execution_count": 21,
   "metadata": {
    "collapsed": true
   },
   "outputs": [],
   "source": [
    "import pandas as pd"
   ]
  },
  {
   "cell_type": "code",
   "execution_count": 7,
   "metadata": {
    "collapsed": true
   },
   "outputs": [],
   "source": [
    "import dash_core_components as dcc"
   ]
  },
  {
   "cell_type": "code",
   "execution_count": 8,
   "metadata": {
    "collapsed": true
   },
   "outputs": [],
   "source": [
    "import dash_html_components as html"
   ]
  },
  {
   "cell_type": "code",
   "execution_count": 9,
   "metadata": {
    "collapsed": true
   },
   "outputs": [],
   "source": [
    "import plotly.graph_objs as go"
   ]
  },
  {
   "cell_type": "code",
   "execution_count": 10,
   "metadata": {
    "collapsed": true
   },
   "outputs": [],
   "source": [
    "import pandas as pd"
   ]
  },
  {
   "cell_type": "code",
   "execution_count": 11,
   "metadata": {
    "collapsed": true
   },
   "outputs": [],
   "source": [
    "import tushare as ts"
   ]
  },
  {
   "cell_type": "code",
   "execution_count": 12,
   "metadata": {
    "collapsed": true
   },
   "outputs": [],
   "source": [
    "import dash_table_experiments as dt"
   ]
  },
  {
   "cell_type": "code",
   "execution_count": 13,
   "metadata": {
    "collapsed": true
   },
   "outputs": [],
   "source": [
    "from dash.dependencies import Output, Input"
   ]
  },
  {
   "cell_type": "code",
   "execution_count": 14,
   "metadata": {
    "collapsed": true
   },
   "outputs": [],
   "source": [
    "from datetime import datetime"
   ]
  },
  {
   "cell_type": "code",
   "execution_count": 15,
   "metadata": {
    "collapsed": true
   },
   "outputs": [],
   "source": [
    "shareIndex = ts.get_index()"
   ]
  },
  {
   "cell_type": "code",
   "execution_count": 16,
   "metadata": {
    "collapsed": true
   },
   "outputs": [],
   "source": [
    "app = dash.Dash(__name__)"
   ]
  },
  {
   "cell_type": "code",
   "execution_count": 17,
   "metadata": {
    "collapsed": false
   },
   "outputs": [],
   "source": [
    "app.layout = html.Div([\n",
    "        #page title\n",
    "        html.Title(\"Share Analystic\"),\n",
    "        \n",
    "        #Page top\n",
    "        html.Div([\n",
    "                #Logo\n",
    "                html.Div([\n",
    "                        html.Label('Shares Analytic')\n",
    "                    ], style = {'height':'20px', 'width':'20%', 'background-color':'rgb(120,120,120)'}),\n",
    "                \n",
    "                html.Div([],style = {'height':'20px', 'width':'60%', 'background-color':'rgb(120,120,120)'}),\n",
    "                \n",
    "                #User Management\n",
    "                html.Div([\n",
    "                        #User Message\n",
    "                        html.Div([\n",
    "                                html.Label('Message')\n",
    "                            ]),\n",
    "                        #User Infor\n",
    "                        html.Div([\n",
    "                                html.Label('Info')\n",
    "                            ])\n",
    "                    ],style = {'height':'20px', 'width':'20%', 'background-color':'rgb(120,120,120)'})\n",
    "            ]),\n",
    "        #Page medium\n",
    "        html.Div([\n",
    "                #Left \n",
    "                html.Div([\n",
    "                        \n",
    "                        #global view\n",
    "                        html.Label('Global View'),\n",
    "                        \n",
    "                        #Self chosse\n",
    "                        html.Label('Global View'),\n",
    "                        \n",
    "                        #Dragon data\n",
    "                        html.Label('Global View'),\n",
    "                        \n",
    "                        #investment data\n",
    "                        html.Label('Global View'),\n",
    "                        \n",
    "                        #classification data\n",
    "                        html.Label('Global View'),\n",
    "                        \n",
    "                        #basic info\n",
    "                        html.Label('Global View'),\n",
    "                        \n",
    "                        #macro data\n",
    "                        html.Label('Global View'),\n",
    "                        \n",
    "                        #entre bank\n",
    "                        html.Label('Global View'),\n",
    "                    ], style = {'height':'1200px', 'width':'200px', 'background-color':'rgb(240,240,240)'}),\n",
    "                \n",
    "                #Main page\n",
    "                html.Div([\n",
    "                        #Global View\n",
    "                        html.Div([\n",
    "                                html.Div([\n",
    "                                        \n",
    "                                        html.Label(\"Choose Index:\"),\n",
    "                                        dcc.Dropdown(\n",
    "                                            id = \"choose_index\",\n",
    "                                            options = [{'label': i, 'value':i} for i in shareIndex['code'] + shareIndex['name']],\n",
    "                                            value = str(shareIndex['code'][0] + shareIndex['name'][0])\n",
    "                                        ),\n",
    "                                        dcc.RadioItems(\n",
    "                                            id = 'choose_index_type',\n",
    "                                            options = [{'label': i, 'value': i} for i in ['day', 'week', 'month']],\n",
    "                                            value = 'day',\n",
    "                                            labelStyle = {'display': 'inline-block'}\n",
    "                                        )  \n",
    "                                    ], style = {'width':'400px'}),\n",
    "                                \n",
    "                                dcc.Graph(id = 'global_view_graph'),\n",
    "                                \n",
    "                                \n",
    "                            ]),\n",
    "                        #selfchoose items\n",
    "                        html.Div([\n",
    "                                                                \n",
    "                                #left choose bar\n",
    "                                html.Div([\n",
    "                                        \n",
    "                                        html.Div([\n",
    "                                                html.Label('Search ...'),\n",
    "                                                dcc.Input(id = 'search_key_word', type = 'text', value = ''),\n",
    "                                                dt.DataTable(\n",
    "                                                    id = 'search_result_table',\n",
    "                                                    rows = [{}],\n",
    "                                                    row_selectable = True,\n",
    "                                                    filterable = True,\n",
    "                                                    sortable = True,\n",
    "                                                    selected_row_indices = []\n",
    "                                                )\n",
    "                                            ])\n",
    "                                    ]),\n",
    "                                \n",
    "                                #right real-time performance\n",
    "                                html.Div([\n",
    "                                        dcc.Graph(id='search_real_time')\n",
    "                                    ])\n",
    "                            ])\n",
    "                        \n",
    "                        \n",
    "                        \n",
    "                    ])\n",
    "            ], style = {'height':'70%', 'width':'80%', 'background-color':'rgb(255,255,255)'}),\n",
    "        #Page Bottom\n",
    "        html.Div([\n",
    "                #Copyright\n",
    "                html.Div([], style = {'height':'10%', 'width':'100%', 'background-color':'rgb(240,240,240)'})\n",
    "            ])\n",
    "        \n",
    "        \n",
    "        \n",
    "    ])"
   ]
  },
  {
   "cell_type": "code",
   "execution_count": 18,
   "metadata": {
    "collapsed": true
   },
   "outputs": [],
   "source": [
    "#global view choose index\n",
    "@app.callback(\n",
    "Output('global_view_graph', 'figure'),\n",
    "    [Input('choose_index', 'value'),\n",
    "    Input('choose_index_type', 'value')]\n",
    ")\n",
    "def change_global_view(choose_index, choose_index_type):\n",
    "    #shareCode = shareIndex.loc[shareIndex['name'] == choose_index]['code']\n",
    "    shareCode = str(choose_index[0:6])\n",
    "    sharePeriodType = choose_index_type[0].upper()\n",
    "    \n",
    "    shareChooseData = ts.get_k_data(shareCode, '2016-01-01',datetime.now().strftime('%Y-%m-%d'),sharePeriodType)\n",
    "    \n",
    "    return {\n",
    "        'data':[\n",
    "            go.Candlestick(\n",
    "                x = shareChooseData['date'],\n",
    "                open = shareChooseData['open'],\n",
    "                high = shareChooseData['high'],\n",
    "                low = shareChooseData['low'],\n",
    "                close = shareChooseData['close']\n",
    "                \n",
    "            )\n",
    "        ],\n",
    "        'layout': go.Layout(\n",
    "            xaxis = {\n",
    "                'title': 'Date'\n",
    "            },\n",
    "            yaxis = {\n",
    "                'title': 'Index'\n",
    "            },\n",
    "            margin = {'l':40, 'b': 40, 't': 10, 'r': 0},\n",
    "            hovermode = 'closest'\n",
    "        )\n",
    "    }\n",
    "    "
   ]
  },
  {
   "cell_type": "code",
   "execution_count": 22,
   "metadata": {
    "collapsed": false
   },
   "outputs": [
    {
     "ename": "CantHaveMultipleOutputs",
     "evalue": "\nYou have already assigned a callback to the output\nwith ID \"search_result_table\" and property \"rows\". An output can only have\na single callback function. Try combining your inputs and\ncallback functions together into one function.\n",
     "output_type": "error",
     "traceback": [
      "\u001b[0;31m---------------------------------------------------------------------------\u001b[0m",
      "\u001b[0;31mCantHaveMultipleOutputs\u001b[0m                   Traceback (most recent call last)",
      "\u001b[0;32m<ipython-input-22-1e7f0cbd14fb>\u001b[0m in \u001b[0;36m<module>\u001b[0;34m()\u001b[0m\n\u001b[1;32m      1\u001b[0m @app.callback(\n\u001b[1;32m      2\u001b[0m \u001b[0mOutput\u001b[0m\u001b[1;33m(\u001b[0m\u001b[1;34m'search_result_table'\u001b[0m\u001b[1;33m,\u001b[0m \u001b[1;34m'rows'\u001b[0m\u001b[1;33m)\u001b[0m\u001b[1;33m,\u001b[0m\u001b[1;33m\u001b[0m\u001b[0m\n\u001b[0;32m----> 3\u001b[0;31m [Input('search_key_word', 'value')])\n\u001b[0m\u001b[1;32m      4\u001b[0m \u001b[1;32mdef\u001b[0m \u001b[0msearch_share\u001b[0m\u001b[1;33m(\u001b[0m\u001b[0msearch_key_word\u001b[0m\u001b[1;33m)\u001b[0m\u001b[1;33m:\u001b[0m\u001b[1;33m\u001b[0m\u001b[0m\n\u001b[1;32m      5\u001b[0m     \u001b[0mshareList\u001b[0m \u001b[1;33m=\u001b[0m \u001b[0mts\u001b[0m\u001b[1;33m.\u001b[0m\u001b[0mget_stock_basics\u001b[0m\u001b[1;33m(\u001b[0m\u001b[1;33m)\u001b[0m\u001b[1;33m\u001b[0m\u001b[0m\n",
      "\u001b[0;32mC:\\Users\\N000156231\\AppData\\Local\\Continuum\\Anaconda2\\lib\\site-packages\\dash\\dash.pyc\u001b[0m in \u001b[0;36mcallback\u001b[0;34m(self, output, inputs, state, events)\u001b[0m\n\u001b[1;32m    487\u001b[0m     \u001b[1;31m# pylint: disable=dangerous-default-value\u001b[0m\u001b[1;33m\u001b[0m\u001b[1;33m\u001b[0m\u001b[0m\n\u001b[1;32m    488\u001b[0m     \u001b[1;32mdef\u001b[0m \u001b[0mcallback\u001b[0m\u001b[1;33m(\u001b[0m\u001b[0mself\u001b[0m\u001b[1;33m,\u001b[0m \u001b[0moutput\u001b[0m\u001b[1;33m,\u001b[0m \u001b[0minputs\u001b[0m\u001b[1;33m=\u001b[0m\u001b[1;33m[\u001b[0m\u001b[1;33m]\u001b[0m\u001b[1;33m,\u001b[0m \u001b[0mstate\u001b[0m\u001b[1;33m=\u001b[0m\u001b[1;33m[\u001b[0m\u001b[1;33m]\u001b[0m\u001b[1;33m,\u001b[0m \u001b[0mevents\u001b[0m\u001b[1;33m=\u001b[0m\u001b[1;33m[\u001b[0m\u001b[1;33m]\u001b[0m\u001b[1;33m)\u001b[0m\u001b[1;33m:\u001b[0m\u001b[1;33m\u001b[0m\u001b[0m\n\u001b[0;32m--> 489\u001b[0;31m         \u001b[0mself\u001b[0m\u001b[1;33m.\u001b[0m\u001b[0m_validate_callback\u001b[0m\u001b[1;33m(\u001b[0m\u001b[0moutput\u001b[0m\u001b[1;33m,\u001b[0m \u001b[0minputs\u001b[0m\u001b[1;33m,\u001b[0m \u001b[0mstate\u001b[0m\u001b[1;33m,\u001b[0m \u001b[0mevents\u001b[0m\u001b[1;33m)\u001b[0m\u001b[1;33m\u001b[0m\u001b[0m\n\u001b[0m\u001b[1;32m    490\u001b[0m \u001b[1;33m\u001b[0m\u001b[0m\n\u001b[1;32m    491\u001b[0m         callback_id = '{}.{}'.format(\n",
      "\u001b[0;32mC:\\Users\\N000156231\\AppData\\Local\\Continuum\\Anaconda2\\lib\\site-packages\\dash\\dash.pyc\u001b[0m in \u001b[0;36m_validate_callback\u001b[0;34m(self, output, inputs, state, events)\u001b[0m\n\u001b[1;32m    472\u001b[0m             '''.format(\n\u001b[1;32m    473\u001b[0m                 \u001b[0moutput\u001b[0m\u001b[1;33m.\u001b[0m\u001b[0mcomponent_id\u001b[0m\u001b[1;33m,\u001b[0m\u001b[1;33m\u001b[0m\u001b[0m\n\u001b[0;32m--> 474\u001b[0;31m                 output.component_property).replace('    ', ''))\n\u001b[0m\u001b[1;32m    475\u001b[0m \u001b[1;33m\u001b[0m\u001b[0m\n\u001b[1;32m    476\u001b[0m     \u001b[1;31m# TODO - Update nomenclature.\u001b[0m\u001b[1;33m\u001b[0m\u001b[1;33m\u001b[0m\u001b[0m\n",
      "\u001b[0;31mCantHaveMultipleOutputs\u001b[0m: \nYou have already assigned a callback to the output\nwith ID \"search_result_table\" and property \"rows\". An output can only have\na single callback function. Try combining your inputs and\ncallback functions together into one function.\n"
     ]
    }
   ],
   "source": [
    "@app.callback(\n",
    "Output('search_result_table', 'rows'),\n",
    "[Input('search_key_word', 'value')])\n",
    "def search_share(search_key_word):\n",
    "    shareList = ts.get_stock_basics()\n",
    "    shareList['search'] = str(shareList['name']).find(search_key_word)\n",
    "    result = shareList.loc[shareList['search'] > -1]\n",
    "    result['code'] = result.index\n",
    "    result = result[['code', 'name','industry']]\n",
    "    return result.to_dict('records')"
   ]
  },
  {
   "cell_type": "code",
   "execution_count": 23,
   "metadata": {
    "collapsed": false
   },
   "outputs": [
    {
     "ename": "NonExistantIdException",
     "evalue": "\nAttempting to assign a callback to the\ncomponent with the id \"search_real_time\" but no\ncomponents with id \"search_real_time\" exist in the\napp's layout.\n\n\nHere is a list of IDs in layout:\n['choose_index', 'choose_index_type', 'global_view_graph', 'search_key_word', 'search_result_table']\n\n\nIf you are assigning callbacks to components\nthat are generated by other callbacks\n(and therefore not in the initial layout), then\nyou can suppress this exception by setting\n`app.config['suppress_callback_exceptions']=True`.\n",
     "output_type": "error",
     "traceback": [
      "\u001b[0;31m---------------------------------------------------------------------------\u001b[0m",
      "\u001b[0;31mNonExistantIdException\u001b[0m                    Traceback (most recent call last)",
      "\u001b[0;32m<ipython-input-23-9bea92202ec2>\u001b[0m in \u001b[0;36m<module>\u001b[0;34m()\u001b[0m\n\u001b[1;32m      1\u001b[0m @app.callback(\n\u001b[1;32m      2\u001b[0m \u001b[0mOutput\u001b[0m\u001b[1;33m(\u001b[0m\u001b[1;34m'search_real_time'\u001b[0m\u001b[1;33m,\u001b[0m\u001b[1;34m'figure'\u001b[0m\u001b[1;33m)\u001b[0m\u001b[1;33m,\u001b[0m\u001b[1;33m\u001b[0m\u001b[0m\n\u001b[0;32m----> 3\u001b[0;31m [Input('search_result_table', 'selected_row_indices')])\n\u001b[0m\u001b[1;32m      4\u001b[0m \u001b[1;32mdef\u001b[0m \u001b[0mcreate_real_time_graph\u001b[0m\u001b[1;33m(\u001b[0m\u001b[0mselected_row_indices\u001b[0m\u001b[1;33m)\u001b[0m\u001b[1;33m:\u001b[0m\u001b[1;33m\u001b[0m\u001b[0m\n\u001b[1;32m      5\u001b[0m     \u001b[0msearch_code\u001b[0m \u001b[1;33m=\u001b[0m \u001b[0mselected_row_indices\u001b[0m\u001b[1;33m[\u001b[0m\u001b[1;36m1\u001b[0m\u001b[1;33m]\u001b[0m\u001b[1;33m\u001b[0m\u001b[0m\n",
      "\u001b[0;32mC:\\Users\\N000156231\\AppData\\Local\\Continuum\\Anaconda2\\lib\\site-packages\\dash\\dash.pyc\u001b[0m in \u001b[0;36mcallback\u001b[0;34m(self, output, inputs, state, events)\u001b[0m\n\u001b[1;32m    487\u001b[0m     \u001b[1;31m# pylint: disable=dangerous-default-value\u001b[0m\u001b[1;33m\u001b[0m\u001b[1;33m\u001b[0m\u001b[0m\n\u001b[1;32m    488\u001b[0m     \u001b[1;32mdef\u001b[0m \u001b[0mcallback\u001b[0m\u001b[1;33m(\u001b[0m\u001b[0mself\u001b[0m\u001b[1;33m,\u001b[0m \u001b[0moutput\u001b[0m\u001b[1;33m,\u001b[0m \u001b[0minputs\u001b[0m\u001b[1;33m=\u001b[0m\u001b[1;33m[\u001b[0m\u001b[1;33m]\u001b[0m\u001b[1;33m,\u001b[0m \u001b[0mstate\u001b[0m\u001b[1;33m=\u001b[0m\u001b[1;33m[\u001b[0m\u001b[1;33m]\u001b[0m\u001b[1;33m,\u001b[0m \u001b[0mevents\u001b[0m\u001b[1;33m=\u001b[0m\u001b[1;33m[\u001b[0m\u001b[1;33m]\u001b[0m\u001b[1;33m)\u001b[0m\u001b[1;33m:\u001b[0m\u001b[1;33m\u001b[0m\u001b[0m\n\u001b[0;32m--> 489\u001b[0;31m         \u001b[0mself\u001b[0m\u001b[1;33m.\u001b[0m\u001b[0m_validate_callback\u001b[0m\u001b[1;33m(\u001b[0m\u001b[0moutput\u001b[0m\u001b[1;33m,\u001b[0m \u001b[0minputs\u001b[0m\u001b[1;33m,\u001b[0m \u001b[0mstate\u001b[0m\u001b[1;33m,\u001b[0m \u001b[0mevents\u001b[0m\u001b[1;33m)\u001b[0m\u001b[1;33m\u001b[0m\u001b[0m\n\u001b[0m\u001b[1;32m    490\u001b[0m \u001b[1;33m\u001b[0m\u001b[0m\n\u001b[1;32m    491\u001b[0m         callback_id = '{}.{}'.format(\n",
      "\u001b[0;32mC:\\Users\\N000156231\\AppData\\Local\\Continuum\\Anaconda2\\lib\\site-packages\\dash\\dash.pyc\u001b[0m in \u001b[0;36m_validate_callback\u001b[0;34m(self, output, inputs, state, events)\u001b[0m\n\u001b[1;32m    397\u001b[0m                             \u001b[1;33m[\u001b[0m\u001b[0mlayout\u001b[0m\u001b[1;33m.\u001b[0m\u001b[0mid\u001b[0m\u001b[1;33m]\u001b[0m\u001b[1;33m\u001b[0m\u001b[0m\n\u001b[1;32m    398\u001b[0m                         )\n\u001b[0;32m--> 399\u001b[0;31m                     ).replace('    ', ''))\n\u001b[0m\u001b[1;32m    400\u001b[0m \u001b[1;33m\u001b[0m\u001b[0m\n\u001b[1;32m    401\u001b[0m                 if not self.config.first('suppress_callback_exceptions',\n",
      "\u001b[0;31mNonExistantIdException\u001b[0m: \nAttempting to assign a callback to the\ncomponent with the id \"search_real_time\" but no\ncomponents with id \"search_real_time\" exist in the\napp's layout.\n\n\nHere is a list of IDs in layout:\n['choose_index', 'choose_index_type', 'global_view_graph', 'search_key_word', 'search_result_table']\n\n\nIf you are assigning callbacks to components\nthat are generated by other callbacks\n(and therefore not in the initial layout), then\nyou can suppress this exception by setting\n`app.config['suppress_callback_exceptions']=True`.\n"
     ]
    }
   ],
   "source": [
    "@app.callback(\n",
    "Output('search_real_time','figure'),\n",
    "[Input('search_result_table', 'selected_row_indices')])\n",
    "def create_real_time_graph(selected_row_indices):\n",
    "    search_code = str(selected_row_indices)\n",
    "    shareChooseData = ts.get_k_data(search_code, '2016-01-01',datetime.now().strftime('%Y-%m-%d'),'D')\n",
    "    return {\n",
    "        'data':[\n",
    "            go.Candlestick(\n",
    "                x = shareChooseData['date'],\n",
    "                open = shareChooseData['open'],\n",
    "                high = shareChooseData['high'],\n",
    "                low = shareChooseData['low'],\n",
    "                close = shareChooseData['close']\n",
    "                \n",
    "            )\n",
    "        ],\n",
    "        'layout': go.Layout(\n",
    "            xaxis = {\n",
    "                'title': 'Date'\n",
    "            },\n",
    "            yaxis = {\n",
    "                'title': 'Index'\n",
    "            },\n",
    "            margin = {'l':40, 'b': 40, 't': 10, 'r': 0},\n",
    "            hovermode = 'closest'\n",
    "        )\n",
    "    }\n",
    "    "
   ]
  },
  {
   "cell_type": "code",
   "execution_count": 35,
   "metadata": {
    "collapsed": false
   },
   "outputs": [
    {
     "name": "stderr",
     "output_type": "stream",
     "text": [
      " * Restarting with stat\n"
     ]
    },
    {
     "ename": "SystemExit",
     "evalue": "1",
     "output_type": "error",
     "traceback": [
      "An exception has occurred, use %tb to see the full traceback.\n",
      "\u001b[0;31mSystemExit\u001b[0m\u001b[0;31m:\u001b[0m 1\n"
     ]
    },
    {
     "name": "stderr",
     "output_type": "stream",
     "text": [
      "C:\\Users\\N000156231\\AppData\\Local\\Continuum\\Anaconda2\\lib\\site-packages\\IPython\\core\\interactiveshell.py:2889: UserWarning:\n",
      "\n",
      "To exit: use 'exit', 'quit', or Ctrl-D.\n",
      "\n"
     ]
    }
   ],
   "source": [
    "if __name__ == '__main__':\n",
    "    app.run_server(debug=True)"
   ]
  },
  {
   "cell_type": "code",
   "execution_count": null,
   "metadata": {
    "collapsed": true
   },
   "outputs": [],
   "source": []
  }
 ],
 "metadata": {
  "anaconda-cloud": {},
  "kernelspec": {
   "display_name": "Python [conda root]",
   "language": "python",
   "name": "conda-root-py"
  },
  "language_info": {
   "codemirror_mode": {
    "name": "ipython",
    "version": 2
   },
   "file_extension": ".py",
   "mimetype": "text/x-python",
   "name": "python",
   "nbconvert_exporter": "python",
   "pygments_lexer": "ipython2",
   "version": "2.7.12"
  }
 },
 "nbformat": 4,
 "nbformat_minor": 2
}
