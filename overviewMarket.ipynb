{
 "cells": [
  {
   "cell_type": "code",
   "execution_count": 11,
   "metadata": {
    "collapsed": true
   },
   "outputs": [],
   "source": [
    "import dash"
   ]
  },
  {
   "cell_type": "code",
   "execution_count": 12,
   "metadata": {
    "collapsed": true
   },
   "outputs": [],
   "source": [
    "import tushare as ts"
   ]
  },
  {
   "cell_type": "code",
   "execution_count": 13,
   "metadata": {
    "collapsed": true
   },
   "outputs": [],
   "source": [
    "import dash_core_components as dcc"
   ]
  },
  {
   "cell_type": "code",
   "execution_count": 14,
   "metadata": {
    "collapsed": true
   },
   "outputs": [],
   "source": [
    "import dash_html_components as html"
   ]
  },
  {
   "cell_type": "code",
   "execution_count": 15,
   "metadata": {
    "collapsed": true
   },
   "outputs": [],
   "source": [
    "from dash.dependencies import Output, Input, State"
   ]
  },
  {
   "cell_type": "code",
   "execution_count": 16,
   "metadata": {
    "collapsed": true
   },
   "outputs": [],
   "source": [
    "from datetime import datetime"
   ]
  },
  {
   "cell_type": "code",
   "execution_count": 21,
   "metadata": {
    "collapsed": true
   },
   "outputs": [],
   "source": [
    "import plotly.graph_objs as go"
   ]
  },
  {
   "cell_type": "code",
   "execution_count": 17,
   "metadata": {
    "collapsed": true
   },
   "outputs": [],
   "source": [
    "import dash_table_experiments as dt"
   ]
  },
  {
   "cell_type": "code",
   "execution_count": 22,
   "metadata": {
    "collapsed": true
   },
   "outputs": [],
   "source": [
    "from datetime import datetime"
   ]
  },
  {
   "cell_type": "code",
   "execution_count": null,
   "metadata": {
    "collapsed": true
   },
   "outputs": [],
   "source": [
    "index_names = ts.get_index()"
   ]
  },
  {
   "cell_type": "code",
   "execution_count": 18,
   "metadata": {
    "collapsed": true
   },
   "outputs": [],
   "source": [
    "app = dash.Dash(__name__)"
   ]
  },
  {
   "cell_type": "code",
   "execution_count": 19,
   "metadata": {
    "collapsed": true
   },
   "outputs": [],
   "source": [
    "app.layout = html.Div([\n",
    "        html.Div([\n",
    "            html.H1('STOCK MARKET OVERVIEW')\n",
    "            ], style={\n",
    "                'background-color':'#7FFFD4', \n",
    "                'height':'100px',\n",
    "                'border-style':'solid 1px',\n",
    "                'font-style':'Georgia',\n",
    "                'color':'white'\n",
    "            }),\n",
    "        html.Div([\n",
    "            html.H2('INDEX OVERVIEW')\n",
    "            ],\n",
    "                style={\n",
    "                'background-color':'#7FFFD4',\n",
    "                'height':'60px',\n",
    "                'margin-top':'5px',\n",
    "                'font-style':'Georgia',\n",
    "                'color':'white'\n",
    "            }),\n",
    "        #index\n",
    "        html.Div([\n",
    "                #controler\n",
    "                html.Div([\n",
    "                        html.H3('Period'),\n",
    "                        dcc.DatePickerRange(\n",
    "                            id = 'index_k_date',\n",
    "                            min_date_allowed = datetime(1995,8,5),\n",
    "                            max_date_allowed = datetime(datetime.today().year, datetime.today().month, datetime.today().day),\n",
    "                            initial_visible_month = datetime(datetime.today().year, datetime.today().month, datetime.today().day),\n",
    "                            end_date = datetime(datetime.today().year, datetime.today().month, datetime.today().day)\n",
    "                        ),\n",
    "                        html.H3('Index'),\n",
    "                        dcc.Dropdown(\n",
    "                            id = 'index_k_name'\n",
    "                        ),\n",
    "                        html.H3('K Line Type'),\n",
    "                        dcc.Dropdown(\n",
    "                            id = 'k_type_select',\n",
    "                            options = ({'label':'Day', 'value':'D'},\n",
    "                                      {'label':'Week', 'value':'W'},\n",
    "                                      {'label':'Month', 'value':'M'}),\n",
    "                            value = 'D',\n",
    "                            placeholder='select a stock...'\n",
    "                        )\n",
    "                    ], style = {\n",
    "                                'font_size':'10px',\n",
    "                                'font-style':'Georgia'\n",
    "                            }),\n",
    "                #graph\n",
    "                html.Div([\n",
    "                        dcc.Graph(id = 'index_k_line')\n",
    "                    ])\n",
    "            ], style = {\n",
    "                'height':'500px',\n",
    "                'background-color':'#F0F8FF'\n",
    "            })\n",
    "        \n",
    "    ], style = {\n",
    "        'width':'70%',\n",
    "        'margin':'0 auto'\n",
    "    })"
   ]
  },
  {
   "cell_type": "code",
   "execution_count": 20,
   "metadata": {
    "collapsed": false
   },
   "outputs": [
    {
     "name": "stderr",
     "output_type": "stream",
     "text": [
      " * Restarting with stat\n"
     ]
    },
    {
     "ename": "SystemExit",
     "evalue": "1",
     "output_type": "error",
     "traceback": [
      "An exception has occurred, use %tb to see the full traceback.\n",
      "\u001b[0;31mSystemExit\u001b[0m\u001b[0;31m:\u001b[0m 1\n"
     ]
    }
   ],
   "source": [
    "if __name__=='__main__':\n",
    "    app.run_server(debug=True)"
   ]
  },
  {
   "cell_type": "code",
   "execution_count": null,
   "metadata": {
    "collapsed": true
   },
   "outputs": [],
   "source": []
  }
 ],
 "metadata": {
  "kernelspec": {
   "display_name": "Python [conda root]",
   "language": "python",
   "name": "conda-root-py"
  },
  "language_info": {
   "codemirror_mode": {
    "name": "ipython",
    "version": 2
   },
   "file_extension": ".py",
   "mimetype": "text/x-python",
   "name": "python",
   "nbconvert_exporter": "python",
   "pygments_lexer": "ipython2",
   "version": "2.7.12"
  }
 },
 "nbformat": 4,
 "nbformat_minor": 2
}
